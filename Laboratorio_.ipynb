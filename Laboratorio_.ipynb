{
  "nbformat": 4,
  "nbformat_minor": 0,
  "metadata": {
    "colab": {
      "provenance": [],
      "include_colab_link": true
    },
    "kernelspec": {
      "name": "python3",
      "display_name": "Python 3"
    },
    "language_info": {
      "name": "python"
    }
  },
  "cells": [
    {
      "cell_type": "markdown",
      "metadata": {
        "id": "view-in-github",
        "colab_type": "text"
      },
      "source": [
        "<a href=\"https://colab.research.google.com/github/NicolLoaiza1/SIS-420-Lab-9/blob/main/Laboratorio_.ipynb\" target=\"_parent\"><img src=\"https://colab.research.google.com/assets/colab-badge.svg\" alt=\"Open In Colab\"/></a>"
      ]
    },
    {
      "cell_type": "code",
      "execution_count": 100,
      "metadata": {
        "id": "a_WnUl3KLCIp"
      },
      "outputs": [],
      "source": [
        "# Loaiza Alvarez Nicol Noelia\n",
        "# Dataset Orosco Sardan Katerine productos de supermercado\n",
        "# Este dataset no le veo muy optimo porque cambiar las letras a numeros es un trabajo muy costoso\n",
        "# por lo que decidi hacer con 2 columnas que son puro numero que son mis x\n",
        "# y una columna mi y que cambie las letras por numeros \n",
        "# Se pudo calcular las thetas con normalidad\n",
        "# Pero las normal ya no pude me sale un error \n",
        "# En conclusion este dataset no es muy optimo puesto que no tiene muchas x o para tenerlas se requiere de modificar  "
      ]
    },
    {
      "cell_type": "code",
      "source": [
        "from google.colab import drive\n",
        "drive.mount('/content/drive')"
      ],
      "metadata": {
        "colab": {
          "base_uri": "https://localhost:8080/"
        },
        "id": "5ysqNTfmi8mj",
        "outputId": "3b5ac543-b2c3-43c2-fc73-ef27780064b9"
      },
      "execution_count": 101,
      "outputs": [
        {
          "output_type": "stream",
          "name": "stdout",
          "text": [
            "Drive already mounted at /content/drive; to attempt to forcibly remount, call drive.mount(\"/content/drive\", force_remount=True).\n"
          ]
        }
      ]
    },
    {
      "cell_type": "code",
      "source": [
        "import os\n",
        "import numpy as np\n",
        "import pandas as pd\n",
        "from matplotlib import pyplot\n",
        "from mpl_toolkits.mplot3d import Axes3D \n",
        "%matplotlib inline"
      ],
      "metadata": {
        "id": "8eoHVdokjC2q"
      },
      "execution_count": 102,
      "outputs": []
    },
    {
      "cell_type": "code",
      "source": [
        "data = pd.read_csv(\"/content/drive/MyDrive/SIS 420 Dataset/productos-de-supermercados-sample.csv\")\n",
        "data = np.array(data)\n",
        "x = data[:, 4:5]\n",
        "y = data[:, 0]\n",
        "m = y.size\n",
        "print(x)\n",
        "print('-'*45)\n",
        "print(y)\n",
        "print('-'*45)\n",
        "print(m)"
      ],
      "metadata": {
        "colab": {
          "base_uri": "https://localhost:8080/"
        },
        "id": "raEJAoi-NygF",
        "outputId": "b77a6303-4382-4c1c-d267-6630e3c117d3"
      },
      "execution_count": 103,
      "outputs": [
        {
          "output_type": "stream",
          "name": "stdout",
          "text": [
            "[[1.4]\n",
            " [10.75]\n",
            " [1.09]\n",
            " ...\n",
            " [5.99]\n",
            " [4.55]\n",
            " [4.99]]\n",
            "---------------------------------------------\n",
            "['mercadona-es' 'mercadona-es' 'mercadona-es' ... 'dia-es' 'mercadona-es'\n",
            " 'dia-es']\n",
            "---------------------------------------------\n",
            "500000\n"
          ]
        }
      ]
    },
    {
      "cell_type": "code",
      "source": [
        "def cambiarDatos(y):\n",
        "  for i in range (m):\n",
        "    if y[i] == \"mercadona-es\":\n",
        "      y[i] = 1\n",
        "    if y[i] == \"carrefour-es\":\n",
        "      y[i] = 2\n",
        "    if y[i] == \"dia-es\":\n",
        "      y[i] = 3  "
      ],
      "metadata": {
        "id": "Bs3iE0vyUG3U"
      },
      "execution_count": 104,
      "outputs": []
    },
    {
      "cell_type": "code",
      "source": [
        "cambiarDatos(y)\n",
        "print(y)"
      ],
      "metadata": {
        "id": "wGpp6RFkX7dq",
        "colab": {
          "base_uri": "https://localhost:8080/"
        },
        "outputId": "158ff83e-dd33-43ea-cb1b-dbb59abb0441"
      },
      "execution_count": 105,
      "outputs": [
        {
          "output_type": "stream",
          "name": "stdout",
          "text": [
            "[1 1 1 ... 3 1 3]\n"
          ]
        }
      ]
    },
    {
      "cell_type": "code",
      "source": [
        "def normalizarX(x):\n",
        "  x_normalizada = []\n",
        "  promedio = np.mean(x,axis=0)\n",
        "  y = y.astype(float)\n",
        "  desviacion_estandar = np.std(x,axis=0)\n",
        "  for i in range(m):\n",
        "    caracteristicas_x = []\n",
        "    for j in range(x.shape[1]):\n",
        "      if desviacion_estandar[j] != 0:\n",
        "        caracteristicas_x.append((x[i,j]-promedio[j])/desviacion_estandar[j])\n",
        "      else:\n",
        "        caracteristicas_x.append(0)\n",
        "    x_normalizada.append(caracteristicas_x)\n",
        "  return x_normalizada, promedio, desviacion_estandar"
      ],
      "metadata": {
        "id": "72dLmhzfkTcB"
      },
      "execution_count": 129,
      "outputs": []
    },
    {
      "cell_type": "code",
      "source": [
        "x_normalizada, promedio, desviacion_estandar = normalizarX(x)\n",
        "x_normalizada = np.array(x_normalizada)\n",
        "x = np.concatenate((np.ones((m,1)),x_normalizada),axis=1)\n",
        "\n",
        "print(x)\n",
        "print('-'*45)\n",
        "print(x_normalizada)"
      ],
      "metadata": {
        "colab": {
          "base_uri": "https://localhost:8080/"
        },
        "id": "e58lidQikYjz",
        "outputId": "0772ca33-e71f-4362-dc00-f838ed48f29f"
      },
      "execution_count": 107,
      "outputs": [
        {
          "output_type": "stream",
          "name": "stdout",
          "text": [
            "[[ 1.         -0.09021891]\n",
            " [ 1.          0.12908349]\n",
            " [ 1.         -0.0974899 ]\n",
            " ...\n",
            " [ 1.          0.01743863]\n",
            " [ 1.         -0.01633628]\n",
            " [ 1.         -0.00601617]]\n",
            "---------------------------------------------\n",
            "[[-0.09021891]\n",
            " [ 0.12908349]\n",
            " [-0.0974899 ]\n",
            " ...\n",
            " [ 0.01743863]\n",
            " [-0.01633628]\n",
            " [-0.00601617]]\n"
          ]
        }
      ]
    },
    {
      "cell_type": "code",
      "source": [
        "def calcularCosto(x, y, theta):\n",
        "  J = 0\n",
        "  hipotesis = np.dot(x,theta)\n",
        "  J = (1/(2*m))*np.sum(np.square((hipotesis)-y))\n",
        "  return J"
      ],
      "metadata": {
        "id": "Gjh3IkC2kuxk"
      },
      "execution_count": 108,
      "outputs": []
    },
    {
      "cell_type": "code",
      "source": [
        "def computeCostMulti(X, y, theta):\n",
        "    m = y.shape[0]  \n",
        "    J = 0 \n",
        "    h = np.dot(X, theta)  \n",
        "    J = (1/(2 * m)) * np.sum(np.square(np.dot(X, theta) - y)) \n",
        "    return J"
      ],
      "metadata": {
        "id": "Xwg0oMtUPcJK"
      },
      "execution_count": 109,
      "outputs": []
    },
    {
      "cell_type": "code",
      "source": [
        "def descensoGradiente(x,y,theta,alpha,n_iteraciones):\n",
        "  historial_J = []\n",
        "  theta = theta.copy()\n",
        "  for i in range(n_iteraciones):\n",
        "    theta = theta-(alpha/m)*(np.dot(x,theta)-y).dot(x)\n",
        "    historial_J.append(calcularCosto(x,y,theta))\n",
        "  return theta, historial_J"
      ],
      "metadata": {
        "id": "Vji54DRzPW-z"
      },
      "execution_count": 110,
      "outputs": []
    },
    {
      "cell_type": "code",
      "source": [
        "def hallarTheta():\n",
        "  theta = np.zeros(x.shape[1])\n",
        "  n_iteraciones = 1000\n",
        "  alpha = 0.003\n",
        "  theta, historial_J = descensoGradiente(x,y,theta,alpha,n_iteraciones)\n",
        "  return theta, historial_J"
      ],
      "metadata": {
        "id": "diRBKtOmPdYi"
      },
      "execution_count": 111,
      "outputs": []
    },
    {
      "cell_type": "code",
      "source": [
        "theta, historial_J = hallarTheta()\n",
        "print(\"Las thetas encontradas son: \",theta)\n",
        "print(\"El menor costo que se pudo determinar fue de: \",historial_J[-1])"
      ],
      "metadata": {
        "colab": {
          "base_uri": "https://localhost:8080/"
        },
        "id": "H-XN-Th9yivy",
        "outputId": "6cf741e5-b21a-4213-860f-b1e94f9bc464"
      },
      "execution_count": 112,
      "outputs": [
        {
          "output_type": "stream",
          "name": "stdout",
          "text": [
            "Las thetas encontradas son:  [1.9128246281502743 -0.018177459898744756]\n",
            "El menor costo que se pudo determinar fue de:  0.2104064751902816\n"
          ]
        }
      ]
    },
    {
      "cell_type": "code",
      "source": [
        "data = pd.read_csv(\"/content/drive/MyDrive/SIS 420 Dataset/productos-de-supermercados-sample.csv\", header=None)\n",
        "data = np.array(data)\n",
        "x = data[:, 4:5]\n",
        "y = data[:, 0]\n",
        "m = y.size\n",
        "x = np.concatenate((np.ones((m,1)),x),axis=1)\n",
        "print(x)\n",
        "print(y)"
      ],
      "metadata": {
        "colab": {
          "base_uri": "https://localhost:8080/"
        },
        "id": "gaowUm-0q5Ei",
        "outputId": "8043d713-3fca-4a68-eeca-7305ce4bc1f4"
      },
      "execution_count": 116,
      "outputs": [
        {
          "output_type": "stream",
          "name": "stdout",
          "text": [
            "[[1.0 'price']\n",
            " [1.0 '1.4']\n",
            " [1.0 '10.75']\n",
            " ...\n",
            " [1.0 5.99]\n",
            " [1.0 4.55]\n",
            " [1.0 4.99]]\n",
            "['supermarket' 'mercadona-es' 'mercadona-es' ... 'dia-es' 'mercadona-es'\n",
            " 'dia-es']\n"
          ]
        }
      ]
    },
    {
      "cell_type": "code",
      "source": [
        "def metodoNormal(x, y):\n",
        "  theta = np.dot(np.dot(np.linalg.inv(np.dot(x.T,x)),x.T),y)\n",
        "  return theta"
      ],
      "metadata": {
        "id": "BG_xDZlYq88p"
      },
      "execution_count": 130,
      "outputs": []
    }
  ]
}